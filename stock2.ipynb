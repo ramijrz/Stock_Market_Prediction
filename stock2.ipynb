{
 "cells": [
  {
   "cell_type": "markdown",
   "metadata": {},
   "source": [
    "# Stock Market Prediction"
   ]
  },
  {
   "cell_type": "code",
   "execution_count": 1,
   "metadata": {},
   "outputs": [],
   "source": [
    "import pandas as pd\n",
    "import numpy as np\n",
    "import sklearn"
   ]
  },
  {
   "cell_type": "code",
   "execution_count": 2,
   "metadata": {},
   "outputs": [],
   "source": [
    "df = pd.read_csv('stock.csv')"
   ]
  },
  {
   "cell_type": "code",
   "execution_count": 3,
   "metadata": {},
   "outputs": [
    {
     "data": {
      "text/html": [
       "<div>\n",
       "<style scoped>\n",
       "    .dataframe tbody tr th:only-of-type {\n",
       "        vertical-align: middle;\n",
       "    }\n",
       "\n",
       "    .dataframe tbody tr th {\n",
       "        vertical-align: top;\n",
       "    }\n",
       "\n",
       "    .dataframe thead th {\n",
       "        text-align: right;\n",
       "    }\n",
       "</style>\n",
       "<table border=\"1\" class=\"dataframe\">\n",
       "  <thead>\n",
       "    <tr style=\"text-align: right;\">\n",
       "      <th></th>\n",
       "      <th>Date</th>\n",
       "      <th>Open</th>\n",
       "      <th>High</th>\n",
       "      <th>Low</th>\n",
       "      <th>Close</th>\n",
       "      <th>Adj_Close</th>\n",
       "      <th>Volume</th>\n",
       "    </tr>\n",
       "  </thead>\n",
       "  <tbody>\n",
       "    <tr>\n",
       "      <th>4387</th>\n",
       "      <td>2017/9/1</td>\n",
       "      <td>113.790001</td>\n",
       "      <td>114.099998</td>\n",
       "      <td>112.790001</td>\n",
       "      <td>113.309998</td>\n",
       "      <td>113.309998</td>\n",
       "      <td>950000</td>\n",
       "    </tr>\n",
       "    <tr>\n",
       "      <th>4388</th>\n",
       "      <td>2017/9/5</td>\n",
       "      <td>112.519997</td>\n",
       "      <td>113.529999</td>\n",
       "      <td>111.160004</td>\n",
       "      <td>111.870003</td>\n",
       "      <td>111.870003</td>\n",
       "      <td>1805200</td>\n",
       "    </tr>\n",
       "    <tr>\n",
       "      <th>4389</th>\n",
       "      <td>2017/9/6</td>\n",
       "      <td>112.029999</td>\n",
       "      <td>112.489998</td>\n",
       "      <td>110.250000</td>\n",
       "      <td>112.230003</td>\n",
       "      <td>112.230003</td>\n",
       "      <td>2136700</td>\n",
       "    </tr>\n",
       "    <tr>\n",
       "      <th>4390</th>\n",
       "      <td>2017/9/7</td>\n",
       "      <td>112.459999</td>\n",
       "      <td>112.900002</td>\n",
       "      <td>112.000000</td>\n",
       "      <td>112.339996</td>\n",
       "      <td>112.339996</td>\n",
       "      <td>1251600</td>\n",
       "    </tr>\n",
       "    <tr>\n",
       "      <th>4391</th>\n",
       "      <td>2017/9/8</td>\n",
       "      <td>112.300003</td>\n",
       "      <td>114.790001</td>\n",
       "      <td>112.010002</td>\n",
       "      <td>113.190002</td>\n",
       "      <td>113.190002</td>\n",
       "      <td>1611700</td>\n",
       "    </tr>\n",
       "  </tbody>\n",
       "</table>\n",
       "</div>"
      ],
      "text/plain": [
       "          Date        Open        High         Low       Close   Adj_Close  \\\n",
       "4387  2017/9/1  113.790001  114.099998  112.790001  113.309998  113.309998   \n",
       "4388  2017/9/5  112.519997  113.529999  111.160004  111.870003  111.870003   \n",
       "4389  2017/9/6  112.029999  112.489998  110.250000  112.230003  112.230003   \n",
       "4390  2017/9/7  112.459999  112.900002  112.000000  112.339996  112.339996   \n",
       "4391  2017/9/8  112.300003  114.790001  112.010002  113.190002  113.190002   \n",
       "\n",
       "       Volume  \n",
       "4387   950000  \n",
       "4388  1805200  \n",
       "4389  2136700  \n",
       "4390  1251600  \n",
       "4391  1611700  "
      ]
     },
     "execution_count": 3,
     "metadata": {},
     "output_type": "execute_result"
    }
   ],
   "source": [
    "df.tail()"
   ]
  },
  {
   "cell_type": "code",
   "execution_count": 4,
   "metadata": {},
   "outputs": [
    {
     "data": {
      "text/plain": [
       "array([[  3.8125  ,   4.15625 ,   3.8125  ],\n",
       "       [  4.125   ,   4.125   ,   4.      ],\n",
       "       [  4.      ,   4.03125 ,   3.953125],\n",
       "       ...,\n",
       "       [112.029999, 112.489998, 110.25    ],\n",
       "       [112.459999, 112.900002, 112.      ],\n",
       "       [112.300003, 114.790001, 112.010002]])"
      ]
     },
     "execution_count": 4,
     "metadata": {},
     "output_type": "execute_result"
    }
   ],
   "source": [
    "X=df.iloc[:,[1,2,3]].values\n",
    "X"
   ]
  },
  {
   "cell_type": "code",
   "execution_count": 14,
   "metadata": {},
   "outputs": [],
   "source": [
    "y=df.iloc[:,4].values"
   ]
  },
  {
   "cell_type": "code",
   "execution_count": 15,
   "metadata": {},
   "outputs": [
    {
     "data": {
      "text/plain": [
       "array([  4.125   ,   4.015625,   4.      , ..., 112.230003, 112.339996,\n",
       "       113.190002])"
      ]
     },
     "execution_count": 15,
     "metadata": {},
     "output_type": "execute_result"
    }
   ],
   "source": [
    "y"
   ]
  },
  {
   "cell_type": "code",
   "execution_count": 16,
   "metadata": {},
   "outputs": [],
   "source": [
    "from sklearn.model_selection import train_test_split"
   ]
  },
  {
   "cell_type": "code",
   "execution_count": 17,
   "metadata": {},
   "outputs": [],
   "source": [
    "X_train,X_test,y_train,y_test =train_test_split(X,y,test_size=0.2,random_state=0)"
   ]
  },
  {
   "cell_type": "code",
   "execution_count": 18,
   "metadata": {},
   "outputs": [],
   "source": [
    "from sklearn.linear_model import LinearRegression"
   ]
  },
  {
   "cell_type": "code",
   "execution_count": 19,
   "metadata": {},
   "outputs": [],
   "source": [
    "regressor = LinearRegression()"
   ]
  },
  {
   "cell_type": "code",
   "execution_count": 20,
   "metadata": {},
   "outputs": [
    {
     "data": {
      "text/plain": [
       "LinearRegression(copy_X=True, fit_intercept=True, n_jobs=None, normalize=False)"
      ]
     },
     "execution_count": 20,
     "metadata": {},
     "output_type": "execute_result"
    }
   ],
   "source": [
    "regressor.fit(X_train,y_train)"
   ]
  },
  {
   "cell_type": "code",
   "execution_count": 21,
   "metadata": {},
   "outputs": [],
   "source": [
    "Z=[[113.79008,114.09998,112.79002]]\n",
    "y_pred = regressor.predict(Z)"
   ]
  },
  {
   "cell_type": "code",
   "execution_count": 22,
   "metadata": {},
   "outputs": [
    {
     "data": {
      "text/plain": [
       "array([113.23337748])"
      ]
     },
     "execution_count": 22,
     "metadata": {},
     "output_type": "execute_result"
    }
   ],
   "source": [
    "y_pred"
   ]
  },
  {
   "cell_type": "code",
   "execution_count": null,
   "metadata": {},
   "outputs": [],
   "source": []
  }
 ],
 "metadata": {
  "kernelspec": {
   "display_name": "Python 3",
   "language": "python",
   "name": "python3"
  },
  "language_info": {
   "codemirror_mode": {
    "name": "ipython",
    "version": 3
   },
   "file_extension": ".py",
   "mimetype": "text/x-python",
   "name": "python",
   "nbconvert_exporter": "python",
   "pygments_lexer": "ipython3",
   "version": "3.7.4"
  }
 },
 "nbformat": 4,
 "nbformat_minor": 4
}
